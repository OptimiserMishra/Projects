{
  "nbformat": 4,
  "nbformat_minor": 0,
  "metadata": {
    "colab": {
      "provenance": []
    },
    "kernelspec": {
      "name": "python3",
      "display_name": "Python 3"
    },
    "language_info": {
      "name": "python"
    }
  },
  "cells": [
    {
      "cell_type": "markdown",
      "source": [
        "#Team 8\n",
        "#Krishna Veer Singh - 202211048\n",
        "#Samaksh Gupta - 202211047\n",
        "#Madhavi Aghera - 202211049\n",
        "#Dhruvi Shah - 202211032"
      ],
      "metadata": {
        "id": "nmzIpU7kj0Es"
      }
    },
    {
      "cell_type": "code",
      "execution_count": 1,
      "metadata": {
        "colab": {
          "base_uri": "https://localhost:8080/"
        },
        "id": "nBiL7JFntpjL",
        "outputId": "c67bab73-60f0-4e7c-abf7-6e4f969ac28d"
      },
      "outputs": [
        {
          "output_type": "stream",
          "name": "stdout",
          "text": [
            "Drive already mounted at /content/drive; to attempt to forcibly remount, call drive.mount(\"/content/drive\", force_remount=True).\n"
          ]
        }
      ],
      "source": [
        "from google.colab import drive\n",
        "drive.mount('/content/drive')"
      ]
    },
    {
      "cell_type": "markdown",
      "source": [
        "#Preprocessing of \"reviews.json\""
      ],
      "metadata": {
        "id": "-q1ZuYJKjn8O"
      }
    },
    {
      "cell_type": "code",
      "source": [
        "import pandas as pd\n",
        "import numpy as np\n",
        "from datetime import datetime\n",
        "from nltk.stem import PorterStemmer\n",
        "import math\n",
        "from nltk.tokenize import sent_tokenize, word_tokenize\n",
        "from nltk.corpus import stopwords \n",
        "from nltk.tokenize import RegexpTokenizer\n",
        "import nltk\n",
        "nltk.download('punkt')\n",
        "from nltk.stem import WordNetLemmatizer\n",
        "nltk.download('stopwords')\n",
        "nltk.download('wordnet')\n",
        "nltk.download('omw-1.4')\n",
        "from sklearn.model_selection import train_test_split\n",
        "from sklearn.feature_extraction.text import CountVectorizer\n",
        "import seaborn as sns\n",
        "import matplotlib.pyplot as plt\n",
        "\n",
        "\n",
        "from sklearn.preprocessing import StandardScaler\n",
        "import os \n",
        "from ast import literal_eval\n",
        "from sklearn.metrics.pairwise import linear_kernel\n",
        "import warnings\n",
        "from textblob import TextBlob"
      ],
      "metadata": {
        "id": "r7nfCmtPt8jk",
        "colab": {
          "base_uri": "https://localhost:8080/"
        },
        "outputId": "77bbe1a2-5378-4492-ba63-7d1c05a1ed40"
      },
      "execution_count": 2,
      "outputs": [
        {
          "output_type": "stream",
          "name": "stderr",
          "text": [
            "[nltk_data] Downloading package punkt to /root/nltk_data...\n",
            "[nltk_data]   Package punkt is already up-to-date!\n",
            "[nltk_data] Downloading package stopwords to /root/nltk_data...\n",
            "[nltk_data]   Package stopwords is already up-to-date!\n",
            "[nltk_data] Downloading package wordnet to /root/nltk_data...\n",
            "[nltk_data]   Package wordnet is already up-to-date!\n",
            "[nltk_data] Downloading package omw-1.4 to /root/nltk_data...\n",
            "[nltk_data]   Package omw-1.4 is already up-to-date!\n"
          ]
        }
      ]
    },
    {
      "cell_type": "code",
      "source": [
        "import json\n",
        "# Opening JSON file\n",
        "f = open('/content/drive/MyDrive/RS_2_final/reviews.json')\n",
        "# data = json.load(f) \n",
        "x = f.readlines()"
      ],
      "metadata": {
        "id": "UTUeRA3iGEt1"
      },
      "execution_count": 3,
      "outputs": []
    },
    {
      "cell_type": "code",
      "source": [
        "print(len(x))"
      ],
      "metadata": {
        "colab": {
          "base_uri": "https://localhost:8080/"
        },
        "id": "HcEHUSauGEwx",
        "outputId": "95eaa657-80b8-418d-f3ef-8bb74595c611"
      },
      "execution_count": 4,
      "outputs": [
        {
          "output_type": "stream",
          "name": "stdout",
          "text": [
            "11453845\n"
          ]
        }
      ]
    },
    {
      "cell_type": "markdown",
      "source": [
        "###For rows between 0-2000001"
      ],
      "metadata": {
        "id": "ARmRUasjlpeu"
      }
    },
    {
      "cell_type": "code",
      "source": [
        "final_dict = {}\n",
        "for i in range(0,2000000):\n",
        "  d = eval(x[i])\n",
        "  final_dict[i] = d"
      ],
      "metadata": {
        "id": "Xe8s_UXtGEzi"
      },
      "execution_count": 5,
      "outputs": []
    },
    {
      "cell_type": "code",
      "source": [
        "df1 = pd.DataFrame.from_dict(final_dict, orient ='index') \n",
        "df1.head()"
      ],
      "metadata": {
        "colab": {
          "base_uri": "https://localhost:8080/",
          "height": 319
        },
        "id": "eRS5bgIyGE2R",
        "outputId": "47bf9def-3bba-490a-fdf7-e198f1897d20"
      },
      "execution_count": 6,
      "outputs": [
        {
          "output_type": "execute_result",
          "data": {
            "text/plain": [
              "   rating  reviewerName                                         reviewText  \\\n",
              "0     3.0        an lam                                  Chất lượng tạm ổn   \n",
              "1     5.0  HALİL TURGUT                              Wc si temiz duzenli..   \n",
              "2     5.0         森田さとこ                   何回も私は予定に休みがセルバに行ったので覚えて見て、分かります❗   \n",
              "3     5.0         森田さとこ  今度は予定に休みが登米市に行きたい❗☀😅🌌 楽しいに日帰りに登米の見学の観光(*^)(*^-...   \n",
              "4     4.0         森田さとこ                            気仙沼警察署に移転中に絆 👮🐎☺🙋🚓頑張ろう❗   \n",
              "\n",
              "                                      categories           gPlusPlaceId  \\\n",
              "0                              [Giải Trí - Café]  108103314380004200232   \n",
              "1                              [Turkish Cuisine]  102194128241608748649   \n",
              "2  [Fishing, Pond Fish Supplier, Seafood Market]  101409858828175402384   \n",
              "3                                       [Museum]  101477177500158511502   \n",
              "4                                       [Police]  106994170641063333085   \n",
              "\n",
              "   unixReviewTime    reviewTime            gPlusUserId  \n",
              "0    1.372687e+09   Jul 1, 2013  100000010817154263736  \n",
              "1    1.342871e+09  Jul 21, 2012  100000013500285534661  \n",
              "2    1.390654e+09  Jan 25, 2014  100000021336848867366  \n",
              "3    1.389188e+09   Jan 8, 2014  100000021336848867366  \n",
              "4    1.390486e+09  Jan 23, 2014  100000021336848867366  "
            ],
            "text/html": [
              "\n",
              "  <div id=\"df-7c4b2e08-556b-4453-bf42-89be4e485cea\">\n",
              "    <div class=\"colab-df-container\">\n",
              "      <div>\n",
              "<style scoped>\n",
              "    .dataframe tbody tr th:only-of-type {\n",
              "        vertical-align: middle;\n",
              "    }\n",
              "\n",
              "    .dataframe tbody tr th {\n",
              "        vertical-align: top;\n",
              "    }\n",
              "\n",
              "    .dataframe thead th {\n",
              "        text-align: right;\n",
              "    }\n",
              "</style>\n",
              "<table border=\"1\" class=\"dataframe\">\n",
              "  <thead>\n",
              "    <tr style=\"text-align: right;\">\n",
              "      <th></th>\n",
              "      <th>rating</th>\n",
              "      <th>reviewerName</th>\n",
              "      <th>reviewText</th>\n",
              "      <th>categories</th>\n",
              "      <th>gPlusPlaceId</th>\n",
              "      <th>unixReviewTime</th>\n",
              "      <th>reviewTime</th>\n",
              "      <th>gPlusUserId</th>\n",
              "    </tr>\n",
              "  </thead>\n",
              "  <tbody>\n",
              "    <tr>\n",
              "      <th>0</th>\n",
              "      <td>3.0</td>\n",
              "      <td>an lam</td>\n",
              "      <td>Chất lượng tạm ổn</td>\n",
              "      <td>[Giải Trí - Café]</td>\n",
              "      <td>108103314380004200232</td>\n",
              "      <td>1.372687e+09</td>\n",
              "      <td>Jul 1, 2013</td>\n",
              "      <td>100000010817154263736</td>\n",
              "    </tr>\n",
              "    <tr>\n",
              "      <th>1</th>\n",
              "      <td>5.0</td>\n",
              "      <td>HALİL TURGUT</td>\n",
              "      <td>Wc si temiz duzenli..</td>\n",
              "      <td>[Turkish Cuisine]</td>\n",
              "      <td>102194128241608748649</td>\n",
              "      <td>1.342871e+09</td>\n",
              "      <td>Jul 21, 2012</td>\n",
              "      <td>100000013500285534661</td>\n",
              "    </tr>\n",
              "    <tr>\n",
              "      <th>2</th>\n",
              "      <td>5.0</td>\n",
              "      <td>森田さとこ</td>\n",
              "      <td>何回も私は予定に休みがセルバに行ったので覚えて見て、分かります❗</td>\n",
              "      <td>[Fishing, Pond Fish Supplier, Seafood Market]</td>\n",
              "      <td>101409858828175402384</td>\n",
              "      <td>1.390654e+09</td>\n",
              "      <td>Jan 25, 2014</td>\n",
              "      <td>100000021336848867366</td>\n",
              "    </tr>\n",
              "    <tr>\n",
              "      <th>3</th>\n",
              "      <td>5.0</td>\n",
              "      <td>森田さとこ</td>\n",
              "      <td>今度は予定に休みが登米市に行きたい❗☀😅🌌 楽しいに日帰りに登米の見学の観光(*^)(*^-...</td>\n",
              "      <td>[Museum]</td>\n",
              "      <td>101477177500158511502</td>\n",
              "      <td>1.389188e+09</td>\n",
              "      <td>Jan 8, 2014</td>\n",
              "      <td>100000021336848867366</td>\n",
              "    </tr>\n",
              "    <tr>\n",
              "      <th>4</th>\n",
              "      <td>4.0</td>\n",
              "      <td>森田さとこ</td>\n",
              "      <td>気仙沼警察署に移転中に絆 👮🐎☺🙋🚓頑張ろう❗</td>\n",
              "      <td>[Police]</td>\n",
              "      <td>106994170641063333085</td>\n",
              "      <td>1.390486e+09</td>\n",
              "      <td>Jan 23, 2014</td>\n",
              "      <td>100000021336848867366</td>\n",
              "    </tr>\n",
              "  </tbody>\n",
              "</table>\n",
              "</div>\n",
              "      <button class=\"colab-df-convert\" onclick=\"convertToInteractive('df-7c4b2e08-556b-4453-bf42-89be4e485cea')\"\n",
              "              title=\"Convert this dataframe to an interactive table.\"\n",
              "              style=\"display:none;\">\n",
              "        \n",
              "  <svg xmlns=\"http://www.w3.org/2000/svg\" height=\"24px\"viewBox=\"0 0 24 24\"\n",
              "       width=\"24px\">\n",
              "    <path d=\"M0 0h24v24H0V0z\" fill=\"none\"/>\n",
              "    <path d=\"M18.56 5.44l.94 2.06.94-2.06 2.06-.94-2.06-.94-.94-2.06-.94 2.06-2.06.94zm-11 1L8.5 8.5l.94-2.06 2.06-.94-2.06-.94L8.5 2.5l-.94 2.06-2.06.94zm10 10l.94 2.06.94-2.06 2.06-.94-2.06-.94-.94-2.06-.94 2.06-2.06.94z\"/><path d=\"M17.41 7.96l-1.37-1.37c-.4-.4-.92-.59-1.43-.59-.52 0-1.04.2-1.43.59L10.3 9.45l-7.72 7.72c-.78.78-.78 2.05 0 2.83L4 21.41c.39.39.9.59 1.41.59.51 0 1.02-.2 1.41-.59l7.78-7.78 2.81-2.81c.8-.78.8-2.07 0-2.86zM5.41 20L4 18.59l7.72-7.72 1.47 1.35L5.41 20z\"/>\n",
              "  </svg>\n",
              "      </button>\n",
              "      \n",
              "  <style>\n",
              "    .colab-df-container {\n",
              "      display:flex;\n",
              "      flex-wrap:wrap;\n",
              "      gap: 12px;\n",
              "    }\n",
              "\n",
              "    .colab-df-convert {\n",
              "      background-color: #E8F0FE;\n",
              "      border: none;\n",
              "      border-radius: 50%;\n",
              "      cursor: pointer;\n",
              "      display: none;\n",
              "      fill: #1967D2;\n",
              "      height: 32px;\n",
              "      padding: 0 0 0 0;\n",
              "      width: 32px;\n",
              "    }\n",
              "\n",
              "    .colab-df-convert:hover {\n",
              "      background-color: #E2EBFA;\n",
              "      box-shadow: 0px 1px 2px rgba(60, 64, 67, 0.3), 0px 1px 3px 1px rgba(60, 64, 67, 0.15);\n",
              "      fill: #174EA6;\n",
              "    }\n",
              "\n",
              "    [theme=dark] .colab-df-convert {\n",
              "      background-color: #3B4455;\n",
              "      fill: #D2E3FC;\n",
              "    }\n",
              "\n",
              "    [theme=dark] .colab-df-convert:hover {\n",
              "      background-color: #434B5C;\n",
              "      box-shadow: 0px 1px 3px 1px rgba(0, 0, 0, 0.15);\n",
              "      filter: drop-shadow(0px 1px 2px rgba(0, 0, 0, 0.3));\n",
              "      fill: #FFFFFF;\n",
              "    }\n",
              "  </style>\n",
              "\n",
              "      <script>\n",
              "        const buttonEl =\n",
              "          document.querySelector('#df-7c4b2e08-556b-4453-bf42-89be4e485cea button.colab-df-convert');\n",
              "        buttonEl.style.display =\n",
              "          google.colab.kernel.accessAllowed ? 'block' : 'none';\n",
              "\n",
              "        async function convertToInteractive(key) {\n",
              "          const element = document.querySelector('#df-7c4b2e08-556b-4453-bf42-89be4e485cea');\n",
              "          const dataTable =\n",
              "            await google.colab.kernel.invokeFunction('convertToInteractive',\n",
              "                                                     [key], {});\n",
              "          if (!dataTable) return;\n",
              "\n",
              "          const docLinkHtml = 'Like what you see? Visit the ' +\n",
              "            '<a target=\"_blank\" href=https://colab.research.google.com/notebooks/data_table.ipynb>data table notebook</a>'\n",
              "            + ' to learn more about interactive tables.';\n",
              "          element.innerHTML = '';\n",
              "          dataTable['output_type'] = 'display_data';\n",
              "          await google.colab.output.renderOutput(dataTable, element);\n",
              "          const docLink = document.createElement('div');\n",
              "          docLink.innerHTML = docLinkHtml;\n",
              "          element.appendChild(docLink);\n",
              "        }\n",
              "      </script>\n",
              "    </div>\n",
              "  </div>\n",
              "  "
            ]
          },
          "metadata": {},
          "execution_count": 6
        }
      ]
    },
    {
      "cell_type": "code",
      "source": [
        "df1.shape"
      ],
      "metadata": {
        "colab": {
          "base_uri": "https://localhost:8080/"
        },
        "id": "pwA4E4osHELf",
        "outputId": "cf7f0f2d-a9fa-4126-b4d2-e311f10d3a3c"
      },
      "execution_count": 7,
      "outputs": [
        {
          "output_type": "execute_result",
          "data": {
            "text/plain": [
              "(2000000, 8)"
            ]
          },
          "metadata": {},
          "execution_count": 7
        }
      ]
    },
    {
      "cell_type": "code",
      "source": [
        "# df1 = df1[df1['reviewerName'].map(lambda x: x.isascii())]\n",
        "df1 = df1.loc[~df1['reviewText'].isnull()]\n",
        "df1 = df1[df1['reviewText'].map(lambda x: x.isascii())]"
      ],
      "metadata": {
        "id": "cjFTd1kiGE5E"
      },
      "execution_count": 8,
      "outputs": []
    },
    {
      "cell_type": "code",
      "source": [
        "#Considering only Positive Reviews\n",
        "df1['sentiment'] = df1['reviewText'].apply(lambda x: TextBlob(x).sentiment.polarity)\n",
        "df1['sentiment'] = df1['sentiment'].apply(lambda x: 'positive' if x > 0 else ('negative' if x < 0 else 'neutral'))\n",
        "print(\"Sentiment Counts: \\n\", df1['sentiment'].value_counts())"
      ],
      "metadata": {
        "colab": {
          "base_uri": "https://localhost:8080/"
        },
        "id": "TV8IZZuKLtfp",
        "outputId": "f92d45e9-362b-48cc-90d5-f1718e4356b3"
      },
      "execution_count": 9,
      "outputs": [
        {
          "output_type": "stream",
          "name": "stdout",
          "text": [
            "Sentiment Counts: \n",
            " positive    812272\n",
            "neutral     171115\n",
            "negative    126214\n",
            "Name: sentiment, dtype: int64\n"
          ]
        }
      ]
    },
    {
      "cell_type": "code",
      "source": [
        "df1.shape"
      ],
      "metadata": {
        "colab": {
          "base_uri": "https://localhost:8080/"
        },
        "id": "C8cbtWS_GE70",
        "outputId": "d364a5fd-e437-4119-8a8d-7a7ef0ed36f8"
      },
      "execution_count": 10,
      "outputs": [
        {
          "output_type": "execute_result",
          "data": {
            "text/plain": [
              "(1109601, 9)"
            ]
          },
          "metadata": {},
          "execution_count": 10
        }
      ]
    },
    {
      "cell_type": "code",
      "source": [
        "df1.head()"
      ],
      "metadata": {
        "colab": {
          "base_uri": "https://localhost:8080/",
          "height": 337
        },
        "id": "tPaj0EJmGE-L",
        "outputId": "7880bec8-1646-4eb4-8ddb-ea52c724d3e8"
      },
      "execution_count": 11,
      "outputs": [
        {
          "output_type": "execute_result",
          "data": {
            "text/plain": [
              "    rating      reviewerName  \\\n",
              "1      5.0      HALİL TURGUT   \n",
              "13     4.0  william spindler   \n",
              "14     5.0  william spindler   \n",
              "15     5.0  william spindler   \n",
              "16     4.0  william spindler   \n",
              "\n",
              "                                           reviewText  \\\n",
              "1                               Wc si temiz duzenli..   \n",
              "13                  Best War Wanton soup in Red Bluff   \n",
              "14  This is a review that is long overdo. I've bee...   \n",
              "15  Some authentic rub BBQ, great food and don't m...   \n",
              "16  Truly a Red Bluff standard. Great old fashione...   \n",
              "\n",
              "                                           categories           gPlusPlaceId  \\\n",
              "1                                   [Turkish Cuisine]  102194128241608748649   \n",
              "13             [Asian Restaurant, Chinese Restaurant]  106591714648856494903   \n",
              "14  [European Restaurant, Italian Restaurant, Pizz...  109420033090810328045   \n",
              "15                              [Barbecue Restaurant]  111623070919810985923   \n",
              "16                                       [Restaurant]  113854191152597312098   \n",
              "\n",
              "    unixReviewTime    reviewTime            gPlusUserId sentiment  \n",
              "1     1.342871e+09  Jul 21, 2012  100000013500285534661   neutral  \n",
              "13    1.394669e+09  Mar 12, 2014  100000032416892623125  positive  \n",
              "14    1.394826e+09  Mar 14, 2014  100000032416892623125  positive  \n",
              "15    1.394671e+09  Mar 12, 2014  100000032416892623125  positive  \n",
              "16    1.394670e+09  Mar 12, 2014  100000032416892623125  positive  "
            ],
            "text/html": [
              "\n",
              "  <div id=\"df-7932aeb7-b381-4a84-9645-8de697ff0742\">\n",
              "    <div class=\"colab-df-container\">\n",
              "      <div>\n",
              "<style scoped>\n",
              "    .dataframe tbody tr th:only-of-type {\n",
              "        vertical-align: middle;\n",
              "    }\n",
              "\n",
              "    .dataframe tbody tr th {\n",
              "        vertical-align: top;\n",
              "    }\n",
              "\n",
              "    .dataframe thead th {\n",
              "        text-align: right;\n",
              "    }\n",
              "</style>\n",
              "<table border=\"1\" class=\"dataframe\">\n",
              "  <thead>\n",
              "    <tr style=\"text-align: right;\">\n",
              "      <th></th>\n",
              "      <th>rating</th>\n",
              "      <th>reviewerName</th>\n",
              "      <th>reviewText</th>\n",
              "      <th>categories</th>\n",
              "      <th>gPlusPlaceId</th>\n",
              "      <th>unixReviewTime</th>\n",
              "      <th>reviewTime</th>\n",
              "      <th>gPlusUserId</th>\n",
              "      <th>sentiment</th>\n",
              "    </tr>\n",
              "  </thead>\n",
              "  <tbody>\n",
              "    <tr>\n",
              "      <th>1</th>\n",
              "      <td>5.0</td>\n",
              "      <td>HALİL TURGUT</td>\n",
              "      <td>Wc si temiz duzenli..</td>\n",
              "      <td>[Turkish Cuisine]</td>\n",
              "      <td>102194128241608748649</td>\n",
              "      <td>1.342871e+09</td>\n",
              "      <td>Jul 21, 2012</td>\n",
              "      <td>100000013500285534661</td>\n",
              "      <td>neutral</td>\n",
              "    </tr>\n",
              "    <tr>\n",
              "      <th>13</th>\n",
              "      <td>4.0</td>\n",
              "      <td>william spindler</td>\n",
              "      <td>Best War Wanton soup in Red Bluff</td>\n",
              "      <td>[Asian Restaurant, Chinese Restaurant]</td>\n",
              "      <td>106591714648856494903</td>\n",
              "      <td>1.394669e+09</td>\n",
              "      <td>Mar 12, 2014</td>\n",
              "      <td>100000032416892623125</td>\n",
              "      <td>positive</td>\n",
              "    </tr>\n",
              "    <tr>\n",
              "      <th>14</th>\n",
              "      <td>5.0</td>\n",
              "      <td>william spindler</td>\n",
              "      <td>This is a review that is long overdo. I've bee...</td>\n",
              "      <td>[European Restaurant, Italian Restaurant, Pizz...</td>\n",
              "      <td>109420033090810328045</td>\n",
              "      <td>1.394826e+09</td>\n",
              "      <td>Mar 14, 2014</td>\n",
              "      <td>100000032416892623125</td>\n",
              "      <td>positive</td>\n",
              "    </tr>\n",
              "    <tr>\n",
              "      <th>15</th>\n",
              "      <td>5.0</td>\n",
              "      <td>william spindler</td>\n",
              "      <td>Some authentic rub BBQ, great food and don't m...</td>\n",
              "      <td>[Barbecue Restaurant]</td>\n",
              "      <td>111623070919810985923</td>\n",
              "      <td>1.394671e+09</td>\n",
              "      <td>Mar 12, 2014</td>\n",
              "      <td>100000032416892623125</td>\n",
              "      <td>positive</td>\n",
              "    </tr>\n",
              "    <tr>\n",
              "      <th>16</th>\n",
              "      <td>4.0</td>\n",
              "      <td>william spindler</td>\n",
              "      <td>Truly a Red Bluff standard. Great old fashione...</td>\n",
              "      <td>[Restaurant]</td>\n",
              "      <td>113854191152597312098</td>\n",
              "      <td>1.394670e+09</td>\n",
              "      <td>Mar 12, 2014</td>\n",
              "      <td>100000032416892623125</td>\n",
              "      <td>positive</td>\n",
              "    </tr>\n",
              "  </tbody>\n",
              "</table>\n",
              "</div>\n",
              "      <button class=\"colab-df-convert\" onclick=\"convertToInteractive('df-7932aeb7-b381-4a84-9645-8de697ff0742')\"\n",
              "              title=\"Convert this dataframe to an interactive table.\"\n",
              "              style=\"display:none;\">\n",
              "        \n",
              "  <svg xmlns=\"http://www.w3.org/2000/svg\" height=\"24px\"viewBox=\"0 0 24 24\"\n",
              "       width=\"24px\">\n",
              "    <path d=\"M0 0h24v24H0V0z\" fill=\"none\"/>\n",
              "    <path d=\"M18.56 5.44l.94 2.06.94-2.06 2.06-.94-2.06-.94-.94-2.06-.94 2.06-2.06.94zm-11 1L8.5 8.5l.94-2.06 2.06-.94-2.06-.94L8.5 2.5l-.94 2.06-2.06.94zm10 10l.94 2.06.94-2.06 2.06-.94-2.06-.94-.94-2.06-.94 2.06-2.06.94z\"/><path d=\"M17.41 7.96l-1.37-1.37c-.4-.4-.92-.59-1.43-.59-.52 0-1.04.2-1.43.59L10.3 9.45l-7.72 7.72c-.78.78-.78 2.05 0 2.83L4 21.41c.39.39.9.59 1.41.59.51 0 1.02-.2 1.41-.59l7.78-7.78 2.81-2.81c.8-.78.8-2.07 0-2.86zM5.41 20L4 18.59l7.72-7.72 1.47 1.35L5.41 20z\"/>\n",
              "  </svg>\n",
              "      </button>\n",
              "      \n",
              "  <style>\n",
              "    .colab-df-container {\n",
              "      display:flex;\n",
              "      flex-wrap:wrap;\n",
              "      gap: 12px;\n",
              "    }\n",
              "\n",
              "    .colab-df-convert {\n",
              "      background-color: #E8F0FE;\n",
              "      border: none;\n",
              "      border-radius: 50%;\n",
              "      cursor: pointer;\n",
              "      display: none;\n",
              "      fill: #1967D2;\n",
              "      height: 32px;\n",
              "      padding: 0 0 0 0;\n",
              "      width: 32px;\n",
              "    }\n",
              "\n",
              "    .colab-df-convert:hover {\n",
              "      background-color: #E2EBFA;\n",
              "      box-shadow: 0px 1px 2px rgba(60, 64, 67, 0.3), 0px 1px 3px 1px rgba(60, 64, 67, 0.15);\n",
              "      fill: #174EA6;\n",
              "    }\n",
              "\n",
              "    [theme=dark] .colab-df-convert {\n",
              "      background-color: #3B4455;\n",
              "      fill: #D2E3FC;\n",
              "    }\n",
              "\n",
              "    [theme=dark] .colab-df-convert:hover {\n",
              "      background-color: #434B5C;\n",
              "      box-shadow: 0px 1px 3px 1px rgba(0, 0, 0, 0.15);\n",
              "      filter: drop-shadow(0px 1px 2px rgba(0, 0, 0, 0.3));\n",
              "      fill: #FFFFFF;\n",
              "    }\n",
              "  </style>\n",
              "\n",
              "      <script>\n",
              "        const buttonEl =\n",
              "          document.querySelector('#df-7932aeb7-b381-4a84-9645-8de697ff0742 button.colab-df-convert');\n",
              "        buttonEl.style.display =\n",
              "          google.colab.kernel.accessAllowed ? 'block' : 'none';\n",
              "\n",
              "        async function convertToInteractive(key) {\n",
              "          const element = document.querySelector('#df-7932aeb7-b381-4a84-9645-8de697ff0742');\n",
              "          const dataTable =\n",
              "            await google.colab.kernel.invokeFunction('convertToInteractive',\n",
              "                                                     [key], {});\n",
              "          if (!dataTable) return;\n",
              "\n",
              "          const docLinkHtml = 'Like what you see? Visit the ' +\n",
              "            '<a target=\"_blank\" href=https://colab.research.google.com/notebooks/data_table.ipynb>data table notebook</a>'\n",
              "            + ' to learn more about interactive tables.';\n",
              "          element.innerHTML = '';\n",
              "          dataTable['output_type'] = 'display_data';\n",
              "          await google.colab.output.renderOutput(dataTable, element);\n",
              "          const docLink = document.createElement('div');\n",
              "          docLink.innerHTML = docLinkHtml;\n",
              "          element.appendChild(docLink);\n",
              "        }\n",
              "      </script>\n",
              "    </div>\n",
              "  </div>\n",
              "  "
            ]
          },
          "metadata": {},
          "execution_count": 11
        }
      ]
    },
    {
      "cell_type": "code",
      "source": [
        "df1.to_csv(\"/content/drive/Shareddrives/RS/LA02/Reviews/Reviews1\")"
      ],
      "metadata": {
        "id": "nhIdQ3jUGFBw"
      },
      "execution_count": 12,
      "outputs": []
    },
    {
      "cell_type": "markdown",
      "source": [
        "###For rows between 2000001-4000000"
      ],
      "metadata": {
        "id": "11XY4OlalPWK"
      }
    },
    {
      "cell_type": "code",
      "source": [
        "final_dict = {}\n",
        "for i in range(2000001,4000000):\n",
        "  d = eval(x[i])\n",
        "  final_dict[i] = d"
      ],
      "metadata": {
        "id": "5cO_KDohkfHa"
      },
      "execution_count": null,
      "outputs": []
    },
    {
      "cell_type": "code",
      "source": [
        "df1 = pd.DataFrame.from_dict(final_dict, orient ='index') "
      ],
      "metadata": {
        "id": "6_U9tjh8ktvP"
      },
      "execution_count": null,
      "outputs": []
    },
    {
      "cell_type": "code",
      "source": [
        "# df1 = df1[df1['reviewerName'].map(lambda x: x.isascii())]\n",
        "df1 = df1.loc[~df1['reviewText'].isnull()]\n",
        "df1 = df1[df1['reviewText'].map(lambda x: x.isascii())]"
      ],
      "metadata": {
        "id": "mkRZcu8_kfHb"
      },
      "execution_count": null,
      "outputs": []
    },
    {
      "cell_type": "code",
      "source": [
        "#Considering only Positive Reviews\n",
        "df1['sentiment'] = df1['reviewText'].apply(lambda x: TextBlob(x).sentiment.polarity)\n",
        "df1['sentiment'] = df1['sentiment'].apply(lambda x: 'positive' if x > 0 else ('negative' if x < 0 else 'neutral'))"
      ],
      "metadata": {
        "id": "jaYuLPAMk4UJ"
      },
      "execution_count": null,
      "outputs": []
    },
    {
      "cell_type": "code",
      "source": [
        "df1.to_csv(\"/content/drive/Shareddrives/RS/LA02/Reviews/Reviews2\")"
      ],
      "metadata": {
        "id": "cv10Ft_VkfHc"
      },
      "execution_count": null,
      "outputs": []
    },
    {
      "cell_type": "markdown",
      "source": [
        "###For rows between 4000001-6000000"
      ],
      "metadata": {
        "id": "ECvoG7Ndlhdy"
      }
    },
    {
      "cell_type": "code",
      "source": [
        "final_dict = {}\n",
        "for i in range(4000001,6000000):\n",
        "  d = eval(x[i])\n",
        "  final_dict[i] = d"
      ],
      "metadata": {
        "id": "fEnVtlbClhdz"
      },
      "execution_count": null,
      "outputs": []
    },
    {
      "cell_type": "code",
      "source": [
        "df1 = pd.DataFrame.from_dict(final_dict, orient ='index') "
      ],
      "metadata": {
        "id": "ctPf8ySIlhdz"
      },
      "execution_count": null,
      "outputs": []
    },
    {
      "cell_type": "code",
      "source": [
        "# df1 = df1[df1['reviewerName'].map(lambda x: x.isascii())]\n",
        "df1 = df1.loc[~df1['reviewText'].isnull()]\n",
        "df1 = df1[df1['reviewText'].map(lambda x: x.isascii())]"
      ],
      "metadata": {
        "id": "eV_G2qVPlhdz"
      },
      "execution_count": null,
      "outputs": []
    },
    {
      "cell_type": "code",
      "source": [
        "#Considering only Positive Reviews\n",
        "df1['sentiment'] = df1['reviewText'].apply(lambda x: TextBlob(x).sentiment.polarity)\n",
        "df1['sentiment'] = df1['sentiment'].apply(lambda x: 'positive' if x > 0 else ('negative' if x < 0 else 'neutral'))"
      ],
      "metadata": {
        "id": "1N826xeHlhdz"
      },
      "execution_count": null,
      "outputs": []
    },
    {
      "cell_type": "code",
      "source": [
        "df1.to_csv(\"/content/drive/Shareddrives/RS/LA02/Reviews/Reviews3\")"
      ],
      "metadata": {
        "id": "WaOPjFx7lhdz"
      },
      "execution_count": null,
      "outputs": []
    },
    {
      "cell_type": "markdown",
      "source": [
        "###For rows between 6000001-8000000"
      ],
      "metadata": {
        "id": "9pprhuBJliVd"
      }
    },
    {
      "cell_type": "code",
      "source": [
        "final_dict = {}\n",
        "for i in range(6000001,8000000):\n",
        "  d = eval(x[i])\n",
        "  final_dict[i] = d"
      ],
      "metadata": {
        "id": "6KpGKFy-liVe"
      },
      "execution_count": null,
      "outputs": []
    },
    {
      "cell_type": "code",
      "source": [
        "df1 = pd.DataFrame.from_dict(final_dict, orient ='index') "
      ],
      "metadata": {
        "id": "3Bp3H80iliVe"
      },
      "execution_count": null,
      "outputs": []
    },
    {
      "cell_type": "code",
      "source": [
        "# df1 = df1[df1['reviewerName'].map(lambda x: x.isascii())]\n",
        "df1 = df1.loc[~df1['reviewText'].isnull()]\n",
        "df1 = df1[df1['reviewText'].map(lambda x: x.isascii())]"
      ],
      "metadata": {
        "id": "GDEPNi-GliVe"
      },
      "execution_count": null,
      "outputs": []
    },
    {
      "cell_type": "code",
      "source": [
        "#Considering only Positive Reviews\n",
        "df1['sentiment'] = df1['reviewText'].apply(lambda x: TextBlob(x).sentiment.polarity)\n",
        "df1['sentiment'] = df1['sentiment'].apply(lambda x: 'positive' if x > 0 else ('negative' if x < 0 else 'neutral'))"
      ],
      "metadata": {
        "id": "CvoEqxaXliVe"
      },
      "execution_count": null,
      "outputs": []
    },
    {
      "cell_type": "code",
      "source": [
        "df1.to_csv(\"/content/drive/Shareddrives/RS/LA02/Reviews/Reviews4\")"
      ],
      "metadata": {
        "id": "X_MSZzINliVe"
      },
      "execution_count": null,
      "outputs": []
    },
    {
      "cell_type": "markdown",
      "source": [
        "###For rows between 8000001-10000000"
      ],
      "metadata": {
        "id": "OjBW9Jeyli8r"
      }
    },
    {
      "cell_type": "code",
      "source": [
        "final_dict = {}\n",
        "for i in range(8000001,10000000):\n",
        "  d = eval(x[i])\n",
        "  final_dict[i] = d"
      ],
      "metadata": {
        "id": "GoAtQ6gzli8r"
      },
      "execution_count": null,
      "outputs": []
    },
    {
      "cell_type": "code",
      "source": [
        "df1 = pd.DataFrame.from_dict(final_dict, orient ='index') "
      ],
      "metadata": {
        "id": "Lh1NA5lCli8r"
      },
      "execution_count": null,
      "outputs": []
    },
    {
      "cell_type": "code",
      "source": [
        "# df1 = df1[df1['reviewerName'].map(lambda x: x.isascii())]\n",
        "df1 = df1.loc[~df1['reviewText'].isnull()]\n",
        "df1 = df1[df1['reviewText'].map(lambda x: x.isascii())]"
      ],
      "metadata": {
        "id": "VxLCKWXAli8r"
      },
      "execution_count": null,
      "outputs": []
    },
    {
      "cell_type": "code",
      "source": [
        "#Considering only Positive Reviews\n",
        "df1['sentiment'] = df1['reviewText'].apply(lambda x: TextBlob(x).sentiment.polarity)\n",
        "df1['sentiment'] = df1['sentiment'].apply(lambda x: 'positive' if x > 0 else ('negative' if x < 0 else 'neutral'))"
      ],
      "metadata": {
        "id": "8TENjiPuli8r"
      },
      "execution_count": null,
      "outputs": []
    },
    {
      "cell_type": "code",
      "source": [
        "df1.to_csv(\"/content/drive/Shareddrives/RS/LA02/Reviews/Reviews5\")"
      ],
      "metadata": {
        "id": "dEidOvzwli8s"
      },
      "execution_count": null,
      "outputs": []
    },
    {
      "cell_type": "markdown",
      "source": [
        "###For rows between 10000001-11453845"
      ],
      "metadata": {
        "id": "HQJJ8Fcdlji2"
      }
    },
    {
      "cell_type": "code",
      "source": [
        "final_dict = {}\n",
        "for i in range(10000001,11453845):\n",
        "  d = eval(x[i])\n",
        "  final_dict[i] = d"
      ],
      "metadata": {
        "id": "p-Y3taIflji2"
      },
      "execution_count": null,
      "outputs": []
    },
    {
      "cell_type": "code",
      "source": [
        "df1 = pd.DataFrame.from_dict(final_dict, orient ='index') "
      ],
      "metadata": {
        "id": "Wi5UwtVHlji2"
      },
      "execution_count": null,
      "outputs": []
    },
    {
      "cell_type": "code",
      "source": [
        "# df1 = df1[df1['reviewerName'].map(lambda x: x.isascii())]\n",
        "df1 = df1.loc[~df1['reviewText'].isnull()]\n",
        "df1 = df1[df1['reviewText'].map(lambda x: x.isascii())]"
      ],
      "metadata": {
        "id": "Sf7hczPjlji2"
      },
      "execution_count": null,
      "outputs": []
    },
    {
      "cell_type": "code",
      "source": [
        "#Considering only Positive Reviews\n",
        "df1['sentiment'] = df1['reviewText'].apply(lambda x: TextBlob(x).sentiment.polarity)\n",
        "df1['sentiment'] = df1['sentiment'].apply(lambda x: 'positive' if x > 0 else ('negative' if x < 0 else 'neutral'))"
      ],
      "metadata": {
        "id": "nUxSDEhRlji2"
      },
      "execution_count": null,
      "outputs": []
    },
    {
      "cell_type": "code",
      "source": [
        "df1.to_csv(\"/content/drive/Shareddrives/RS/LA02/Reviews/Reviews6\")"
      ],
      "metadata": {
        "id": "jUkIr5k3lji2"
      },
      "execution_count": null,
      "outputs": []
    },
    {
      "cell_type": "code",
      "source": [],
      "metadata": {
        "id": "UQUPDkItmvdU"
      },
      "execution_count": null,
      "outputs": []
    },
    {
      "cell_type": "markdown",
      "source": [
        "#Read Preproced Data"
      ],
      "metadata": {
        "id": "sb8-E2C9Z_Pr"
      }
    },
    {
      "cell_type": "code",
      "source": [
        "df1 = pd.read_csv('/content/drive/Shareddrives/RS/LA02/Reviews/Reviews1.csv', lineterminator='\\n')"
      ],
      "metadata": {
        "id": "Is2sHQJqHXq_"
      },
      "execution_count": null,
      "outputs": []
    },
    {
      "cell_type": "code",
      "source": [
        "df1.shape"
      ],
      "metadata": {
        "colab": {
          "base_uri": "https://localhost:8080/"
        },
        "id": "9nLf2DZ5aO_M",
        "outputId": "76b5dd30-c147-453b-cd2b-7e84722998d0"
      },
      "execution_count": null,
      "outputs": [
        {
          "output_type": "execute_result",
          "data": {
            "text/plain": [
              "(1109601, 10)"
            ]
          },
          "metadata": {},
          "execution_count": 4
        }
      ]
    },
    {
      "cell_type": "code",
      "source": [
        "df2 = pd.read_csv('/content/drive/Shareddrives/RS/LA02/Reviews/Reviews2.csv', lineterminator='\\n')"
      ],
      "metadata": {
        "id": "1r1SK5ULXpBs"
      },
      "execution_count": null,
      "outputs": []
    },
    {
      "cell_type": "code",
      "source": [
        "df2.shape"
      ],
      "metadata": {
        "colab": {
          "base_uri": "https://localhost:8080/"
        },
        "id": "KWJVPcOVaQ5l",
        "outputId": "29d048b4-699a-4970-ad9d-d14affca145e"
      },
      "execution_count": null,
      "outputs": [
        {
          "output_type": "execute_result",
          "data": {
            "text/plain": [
              "(1109506, 10)"
            ]
          },
          "metadata": {},
          "execution_count": 14
        }
      ]
    },
    {
      "cell_type": "code",
      "source": [
        "df3 = pd.read_csv('/content/drive/Shareddrives/RS/LA02/Reviews/Reviews3.csv', lineterminator='\\n')"
      ],
      "metadata": {
        "id": "fr_3p6BWXpEz"
      },
      "execution_count": null,
      "outputs": []
    },
    {
      "cell_type": "code",
      "source": [
        "df3.shape"
      ],
      "metadata": {
        "colab": {
          "base_uri": "https://localhost:8080/"
        },
        "id": "MZ3uWeVTaTV8",
        "outputId": "1b1f603c-c4f7-43e6-cb07-9d188f6a027d"
      },
      "execution_count": null,
      "outputs": [
        {
          "output_type": "execute_result",
          "data": {
            "text/plain": [
              "(1117139, 10)"
            ]
          },
          "metadata": {},
          "execution_count": 6
        }
      ]
    },
    {
      "cell_type": "code",
      "source": [
        "df4 = pd.read_csv('/content/drive/Shareddrives/RS/LA02/Reviews/Reviews4.csv', lineterminator='\\n')"
      ],
      "metadata": {
        "id": "5gmRGxNkXpIX"
      },
      "execution_count": null,
      "outputs": []
    },
    {
      "cell_type": "code",
      "source": [
        "df4.shape"
      ],
      "metadata": {
        "colab": {
          "base_uri": "https://localhost:8080/"
        },
        "id": "vzGiyVbVaW-F",
        "outputId": "a89040ba-5e54-4c29-f8ff-4bf89fa5b9a6"
      },
      "execution_count": null,
      "outputs": [
        {
          "output_type": "execute_result",
          "data": {
            "text/plain": [
              "(1115547, 10)"
            ]
          },
          "metadata": {},
          "execution_count": 8
        }
      ]
    },
    {
      "cell_type": "code",
      "source": [
        "df5 = pd.read_csv('/content/drive/Shareddrives/RS/LA02/Reviews/Reviews5.csv', lineterminator='\\n')"
      ],
      "metadata": {
        "id": "563hx3q4HXuV"
      },
      "execution_count": null,
      "outputs": []
    },
    {
      "cell_type": "code",
      "source": [
        "df5.shape"
      ],
      "metadata": {
        "colab": {
          "base_uri": "https://localhost:8080/"
        },
        "id": "ekBxfkuGaa9J",
        "outputId": "0fe6450b-3329-43a4-d147-440e362e5452"
      },
      "execution_count": null,
      "outputs": [
        {
          "output_type": "execute_result",
          "data": {
            "text/plain": [
              "(1112019, 10)"
            ]
          },
          "metadata": {},
          "execution_count": 10
        }
      ]
    },
    {
      "cell_type": "code",
      "source": [
        "df6 = pd.read_csv('/content/drive/Shareddrives/RS/LA02/Reviews/Reviews6.csv', lineterminator='\\n')"
      ],
      "metadata": {
        "id": "GmmDQTS3HXwo"
      },
      "execution_count": null,
      "outputs": []
    },
    {
      "cell_type": "code",
      "source": [
        "df6.shape"
      ],
      "metadata": {
        "colab": {
          "base_uri": "https://localhost:8080/"
        },
        "id": "mdlUSN51adT3",
        "outputId": "f224ef91-e6f4-45ed-86f6-74f12a6c296d"
      },
      "execution_count": null,
      "outputs": [
        {
          "output_type": "execute_result",
          "data": {
            "text/plain": [
              "(814713, 10)"
            ]
          },
          "metadata": {},
          "execution_count": 12
        }
      ]
    },
    {
      "cell_type": "code",
      "source": [
        "frames = [df1, df2, df3, df4, df5, df6]\n",
        "result = pd.concat(frames, axis=0)\n",
        "result.to_csv('/content/drive/Shareddrives/RS/LA02/Reviews/reviews_merged_123456.csv')"
      ],
      "metadata": {
        "id": "xTlgVLIfHXz-"
      },
      "execution_count": null,
      "outputs": []
    },
    {
      "cell_type": "code",
      "source": [
        "result.shape"
      ],
      "metadata": {
        "colab": {
          "base_uri": "https://localhost:8080/"
        },
        "id": "wGxGI8INHX2g",
        "outputId": "1175348b-d2ec-4bba-8357-dd8919c082d8"
      },
      "execution_count": null,
      "outputs": [
        {
          "output_type": "execute_result",
          "data": {
            "text/plain": [
              "(6378525, 10)"
            ]
          },
          "metadata": {},
          "execution_count": 18
        }
      ]
    },
    {
      "cell_type": "code",
      "source": [
        "result"
      ],
      "metadata": {
        "colab": {
          "base_uri": "https://localhost:8080/",
          "height": 1000
        },
        "id": "YrGNtHiPHX47",
        "outputId": "e577e560-0f53-4832-dcc1-c32bed60112d"
      },
      "execution_count": null,
      "outputs": [
        {
          "output_type": "execute_result",
          "data": {
            "text/plain": [
              "        Unnamed: 0  rating      reviewerName  \\\n",
              "0                1     5.0      HALİL TURGUT   \n",
              "1               13     4.0  william spindler   \n",
              "2               14     5.0  william spindler   \n",
              "3               15     5.0  william spindler   \n",
              "4               16     4.0  william spindler   \n",
              "...            ...     ...               ...   \n",
              "814708    11453827     2.0  charles mckinney   \n",
              "814709    11453829     2.0  charles mckinney   \n",
              "814710    11453834     1.0  charles mckinney   \n",
              "814711    11453839     2.0  Мартин Милчевски   \n",
              "814712    11453843     5.0      Karen Martin   \n",
              "\n",
              "                                               reviewText  \\\n",
              "0                                   Wc si temiz duzenli..   \n",
              "1                       Best War Wanton soup in Red Bluff   \n",
              "2       This is a review that is long overdo. I've bee...   \n",
              "3       Some authentic rub BBQ, great food and don't m...   \n",
              "4       Truly a Red Bluff standard. Great old fashione...   \n",
              "...                                                   ...   \n",
              "814708              Too expensive for a fast food burger.   \n",
              "814709                Too many gangs frequent this place.   \n",
              "814710  i will never go back. food and customer servic...   \n",
              "814711                                      Doesn't work.   \n",
              "814712  The MOST amazing homemade ice cream in North W...   \n",
              "\n",
              "                                               categories  \\\n",
              "0                                     ['Turkish Cuisine']   \n",
              "1              ['Asian Restaurant', 'Chinese Restaurant']   \n",
              "2       ['European Restaurant', 'Italian Restaurant', ...   \n",
              "3                                 ['Barbecue Restaurant']   \n",
              "4                                          ['Restaurant']   \n",
              "...                                                   ...   \n",
              "814708   ['Hamburger Restaurant', 'Fast Food Restaurant']   \n",
              "814709                                    ['Flea Market']   \n",
              "814710       ['Buffet Restaurant', 'American Restaurant']   \n",
              "814711                                    ['Post Office']   \n",
              "814712                                                NaN   \n",
              "\n",
              "                 gPlusPlaceId  unixReviewTime    reviewTime  \\\n",
              "0       102194128241608748649    1.342871e+09  Jul 21, 2012   \n",
              "1       106591714648856494903    1.394669e+09  Mar 12, 2014   \n",
              "2       109420033090810328045    1.394826e+09  Mar 14, 2014   \n",
              "3       111623070919810985923    1.394671e+09  Mar 12, 2014   \n",
              "4       113854191152597312098    1.394670e+09  Mar 12, 2014   \n",
              "...                       ...             ...           ...   \n",
              "814708  116458473784504954830    1.364706e+09  Mar 30, 2013   \n",
              "814709  116649125736549598195    1.367212e+09  Apr 28, 2013   \n",
              "814710  117952004983617019485    1.315602e+09   Sep 9, 2011   \n",
              "814711  107994784120920658841    1.343432e+09  Jul 27, 2012   \n",
              "814712  106919006909432779494             NaN           NaN   \n",
              "\n",
              "                  gPlusUserId sentiment  \n",
              "0       100000013500285534661   neutral  \n",
              "1       100000032416892623125  positive  \n",
              "2       100000032416892623125  positive  \n",
              "3       100000032416892623125  positive  \n",
              "4       100000032416892623125  positive  \n",
              "...                       ...       ...  \n",
              "814708  118446742455312620560  negative  \n",
              "814709  118446742455312620560  positive  \n",
              "814710  118446742455312620560  negative  \n",
              "814711  118446743512419806874   neutral  \n",
              "814712  118446743745545869532  positive  \n",
              "\n",
              "[6378525 rows x 10 columns]"
            ],
            "text/html": [
              "\n",
              "  <div id=\"df-78b22c1b-f067-4174-8641-7455d41a8a04\">\n",
              "    <div class=\"colab-df-container\">\n",
              "      <div>\n",
              "<style scoped>\n",
              "    .dataframe tbody tr th:only-of-type {\n",
              "        vertical-align: middle;\n",
              "    }\n",
              "\n",
              "    .dataframe tbody tr th {\n",
              "        vertical-align: top;\n",
              "    }\n",
              "\n",
              "    .dataframe thead th {\n",
              "        text-align: right;\n",
              "    }\n",
              "</style>\n",
              "<table border=\"1\" class=\"dataframe\">\n",
              "  <thead>\n",
              "    <tr style=\"text-align: right;\">\n",
              "      <th></th>\n",
              "      <th>Unnamed: 0</th>\n",
              "      <th>rating</th>\n",
              "      <th>reviewerName</th>\n",
              "      <th>reviewText</th>\n",
              "      <th>categories</th>\n",
              "      <th>gPlusPlaceId</th>\n",
              "      <th>unixReviewTime</th>\n",
              "      <th>reviewTime</th>\n",
              "      <th>gPlusUserId</th>\n",
              "      <th>sentiment</th>\n",
              "    </tr>\n",
              "  </thead>\n",
              "  <tbody>\n",
              "    <tr>\n",
              "      <th>0</th>\n",
              "      <td>1</td>\n",
              "      <td>5.0</td>\n",
              "      <td>HALİL TURGUT</td>\n",
              "      <td>Wc si temiz duzenli..</td>\n",
              "      <td>['Turkish Cuisine']</td>\n",
              "      <td>102194128241608748649</td>\n",
              "      <td>1.342871e+09</td>\n",
              "      <td>Jul 21, 2012</td>\n",
              "      <td>100000013500285534661</td>\n",
              "      <td>neutral</td>\n",
              "    </tr>\n",
              "    <tr>\n",
              "      <th>1</th>\n",
              "      <td>13</td>\n",
              "      <td>4.0</td>\n",
              "      <td>william spindler</td>\n",
              "      <td>Best War Wanton soup in Red Bluff</td>\n",
              "      <td>['Asian Restaurant', 'Chinese Restaurant']</td>\n",
              "      <td>106591714648856494903</td>\n",
              "      <td>1.394669e+09</td>\n",
              "      <td>Mar 12, 2014</td>\n",
              "      <td>100000032416892623125</td>\n",
              "      <td>positive</td>\n",
              "    </tr>\n",
              "    <tr>\n",
              "      <th>2</th>\n",
              "      <td>14</td>\n",
              "      <td>5.0</td>\n",
              "      <td>william spindler</td>\n",
              "      <td>This is a review that is long overdo. I've bee...</td>\n",
              "      <td>['European Restaurant', 'Italian Restaurant', ...</td>\n",
              "      <td>109420033090810328045</td>\n",
              "      <td>1.394826e+09</td>\n",
              "      <td>Mar 14, 2014</td>\n",
              "      <td>100000032416892623125</td>\n",
              "      <td>positive</td>\n",
              "    </tr>\n",
              "    <tr>\n",
              "      <th>3</th>\n",
              "      <td>15</td>\n",
              "      <td>5.0</td>\n",
              "      <td>william spindler</td>\n",
              "      <td>Some authentic rub BBQ, great food and don't m...</td>\n",
              "      <td>['Barbecue Restaurant']</td>\n",
              "      <td>111623070919810985923</td>\n",
              "      <td>1.394671e+09</td>\n",
              "      <td>Mar 12, 2014</td>\n",
              "      <td>100000032416892623125</td>\n",
              "      <td>positive</td>\n",
              "    </tr>\n",
              "    <tr>\n",
              "      <th>4</th>\n",
              "      <td>16</td>\n",
              "      <td>4.0</td>\n",
              "      <td>william spindler</td>\n",
              "      <td>Truly a Red Bluff standard. Great old fashione...</td>\n",
              "      <td>['Restaurant']</td>\n",
              "      <td>113854191152597312098</td>\n",
              "      <td>1.394670e+09</td>\n",
              "      <td>Mar 12, 2014</td>\n",
              "      <td>100000032416892623125</td>\n",
              "      <td>positive</td>\n",
              "    </tr>\n",
              "    <tr>\n",
              "      <th>...</th>\n",
              "      <td>...</td>\n",
              "      <td>...</td>\n",
              "      <td>...</td>\n",
              "      <td>...</td>\n",
              "      <td>...</td>\n",
              "      <td>...</td>\n",
              "      <td>...</td>\n",
              "      <td>...</td>\n",
              "      <td>...</td>\n",
              "      <td>...</td>\n",
              "    </tr>\n",
              "    <tr>\n",
              "      <th>814708</th>\n",
              "      <td>11453827</td>\n",
              "      <td>2.0</td>\n",
              "      <td>charles mckinney</td>\n",
              "      <td>Too expensive for a fast food burger.</td>\n",
              "      <td>['Hamburger Restaurant', 'Fast Food Restaurant']</td>\n",
              "      <td>116458473784504954830</td>\n",
              "      <td>1.364706e+09</td>\n",
              "      <td>Mar 30, 2013</td>\n",
              "      <td>118446742455312620560</td>\n",
              "      <td>negative</td>\n",
              "    </tr>\n",
              "    <tr>\n",
              "      <th>814709</th>\n",
              "      <td>11453829</td>\n",
              "      <td>2.0</td>\n",
              "      <td>charles mckinney</td>\n",
              "      <td>Too many gangs frequent this place.</td>\n",
              "      <td>['Flea Market']</td>\n",
              "      <td>116649125736549598195</td>\n",
              "      <td>1.367212e+09</td>\n",
              "      <td>Apr 28, 2013</td>\n",
              "      <td>118446742455312620560</td>\n",
              "      <td>positive</td>\n",
              "    </tr>\n",
              "    <tr>\n",
              "      <th>814710</th>\n",
              "      <td>11453834</td>\n",
              "      <td>1.0</td>\n",
              "      <td>charles mckinney</td>\n",
              "      <td>i will never go back. food and customer servic...</td>\n",
              "      <td>['Buffet Restaurant', 'American Restaurant']</td>\n",
              "      <td>117952004983617019485</td>\n",
              "      <td>1.315602e+09</td>\n",
              "      <td>Sep 9, 2011</td>\n",
              "      <td>118446742455312620560</td>\n",
              "      <td>negative</td>\n",
              "    </tr>\n",
              "    <tr>\n",
              "      <th>814711</th>\n",
              "      <td>11453839</td>\n",
              "      <td>2.0</td>\n",
              "      <td>Мартин Милчевски</td>\n",
              "      <td>Doesn't work.</td>\n",
              "      <td>['Post Office']</td>\n",
              "      <td>107994784120920658841</td>\n",
              "      <td>1.343432e+09</td>\n",
              "      <td>Jul 27, 2012</td>\n",
              "      <td>118446743512419806874</td>\n",
              "      <td>neutral</td>\n",
              "    </tr>\n",
              "    <tr>\n",
              "      <th>814712</th>\n",
              "      <td>11453843</td>\n",
              "      <td>5.0</td>\n",
              "      <td>Karen Martin</td>\n",
              "      <td>The MOST amazing homemade ice cream in North W...</td>\n",
              "      <td>NaN</td>\n",
              "      <td>106919006909432779494</td>\n",
              "      <td>NaN</td>\n",
              "      <td>NaN</td>\n",
              "      <td>118446743745545869532</td>\n",
              "      <td>positive</td>\n",
              "    </tr>\n",
              "  </tbody>\n",
              "</table>\n",
              "<p>6378525 rows × 10 columns</p>\n",
              "</div>\n",
              "      <button class=\"colab-df-convert\" onclick=\"convertToInteractive('df-78b22c1b-f067-4174-8641-7455d41a8a04')\"\n",
              "              title=\"Convert this dataframe to an interactive table.\"\n",
              "              style=\"display:none;\">\n",
              "        \n",
              "  <svg xmlns=\"http://www.w3.org/2000/svg\" height=\"24px\"viewBox=\"0 0 24 24\"\n",
              "       width=\"24px\">\n",
              "    <path d=\"M0 0h24v24H0V0z\" fill=\"none\"/>\n",
              "    <path d=\"M18.56 5.44l.94 2.06.94-2.06 2.06-.94-2.06-.94-.94-2.06-.94 2.06-2.06.94zm-11 1L8.5 8.5l.94-2.06 2.06-.94-2.06-.94L8.5 2.5l-.94 2.06-2.06.94zm10 10l.94 2.06.94-2.06 2.06-.94-2.06-.94-.94-2.06-.94 2.06-2.06.94z\"/><path d=\"M17.41 7.96l-1.37-1.37c-.4-.4-.92-.59-1.43-.59-.52 0-1.04.2-1.43.59L10.3 9.45l-7.72 7.72c-.78.78-.78 2.05 0 2.83L4 21.41c.39.39.9.59 1.41.59.51 0 1.02-.2 1.41-.59l7.78-7.78 2.81-2.81c.8-.78.8-2.07 0-2.86zM5.41 20L4 18.59l7.72-7.72 1.47 1.35L5.41 20z\"/>\n",
              "  </svg>\n",
              "      </button>\n",
              "      \n",
              "  <style>\n",
              "    .colab-df-container {\n",
              "      display:flex;\n",
              "      flex-wrap:wrap;\n",
              "      gap: 12px;\n",
              "    }\n",
              "\n",
              "    .colab-df-convert {\n",
              "      background-color: #E8F0FE;\n",
              "      border: none;\n",
              "      border-radius: 50%;\n",
              "      cursor: pointer;\n",
              "      display: none;\n",
              "      fill: #1967D2;\n",
              "      height: 32px;\n",
              "      padding: 0 0 0 0;\n",
              "      width: 32px;\n",
              "    }\n",
              "\n",
              "    .colab-df-convert:hover {\n",
              "      background-color: #E2EBFA;\n",
              "      box-shadow: 0px 1px 2px rgba(60, 64, 67, 0.3), 0px 1px 3px 1px rgba(60, 64, 67, 0.15);\n",
              "      fill: #174EA6;\n",
              "    }\n",
              "\n",
              "    [theme=dark] .colab-df-convert {\n",
              "      background-color: #3B4455;\n",
              "      fill: #D2E3FC;\n",
              "    }\n",
              "\n",
              "    [theme=dark] .colab-df-convert:hover {\n",
              "      background-color: #434B5C;\n",
              "      box-shadow: 0px 1px 3px 1px rgba(0, 0, 0, 0.15);\n",
              "      filter: drop-shadow(0px 1px 2px rgba(0, 0, 0, 0.3));\n",
              "      fill: #FFFFFF;\n",
              "    }\n",
              "  </style>\n",
              "\n",
              "      <script>\n",
              "        const buttonEl =\n",
              "          document.querySelector('#df-78b22c1b-f067-4174-8641-7455d41a8a04 button.colab-df-convert');\n",
              "        buttonEl.style.display =\n",
              "          google.colab.kernel.accessAllowed ? 'block' : 'none';\n",
              "\n",
              "        async function convertToInteractive(key) {\n",
              "          const element = document.querySelector('#df-78b22c1b-f067-4174-8641-7455d41a8a04');\n",
              "          const dataTable =\n",
              "            await google.colab.kernel.invokeFunction('convertToInteractive',\n",
              "                                                     [key], {});\n",
              "          if (!dataTable) return;\n",
              "\n",
              "          const docLinkHtml = 'Like what you see? Visit the ' +\n",
              "            '<a target=\"_blank\" href=https://colab.research.google.com/notebooks/data_table.ipynb>data table notebook</a>'\n",
              "            + ' to learn more about interactive tables.';\n",
              "          element.innerHTML = '';\n",
              "          dataTable['output_type'] = 'display_data';\n",
              "          await google.colab.output.renderOutput(dataTable, element);\n",
              "          const docLink = document.createElement('div');\n",
              "          docLink.innerHTML = docLinkHtml;\n",
              "          element.appendChild(docLink);\n",
              "        }\n",
              "      </script>\n",
              "    </div>\n",
              "  </div>\n",
              "  "
            ]
          },
          "metadata": {},
          "execution_count": 19
        }
      ]
    },
    {
      "cell_type": "markdown",
      "source": [
        "#Preprocessing of \"users.json\""
      ],
      "metadata": {
        "id": "keqrxdoU3KGS"
      }
    },
    {
      "cell_type": "code",
      "source": [
        "path = \"/content/drive/MyDrive/RS_2_final/users.json\""
      ],
      "metadata": {
        "id": "guIvpxmIzqJH"
      },
      "execution_count": null,
      "outputs": []
    },
    {
      "cell_type": "code",
      "source": [
        "def clean_and_read_json(path, chunksize, end_chunk):\n",
        "  file = open(path)\n",
        "  \n",
        "  i=chunksize\n",
        "  j_obj = []\n",
        "  for line in file:\n",
        "    data = line.replace('\\n','')\n",
        "    j_obj.append(json.dumps(ast.literal_eval(data)))\n",
        "    if(i==end_chunk):\n",
        "      break\n",
        "    i=i+1\n",
        "  \n",
        "  with open(\"newfile.json\", \"w\") as outfile:\n",
        "    for line in j_obj:\n",
        "      outfile.write(line)\n",
        "      outfile.write(\"\\n\")\n",
        "\n",
        "  with open(\"newfile.json\", \"r\") as jsonfile:\n",
        "    df = pd.read_json(jsonfile, orient=\"records\", lines=True)\n",
        "  \n",
        "  return df"
      ],
      "metadata": {
        "id": "kjOVvQ7eqXZ6"
      },
      "execution_count": null,
      "outputs": []
    },
    {
      "cell_type": "code",
      "source": [
        "def remove_none_values(df):\n",
        "  df = df.replace(to_replace='None', value=np.nan).dropna()\n",
        "  return df"
      ],
      "metadata": {
        "id": "Qx0xfqr5qax5"
      },
      "execution_count": null,
      "outputs": []
    },
    {
      "cell_type": "code",
      "source": [
        "users_df = clean_and_read_json(path)"
      ],
      "metadata": {
        "id": "UQxLhabz3Mc_"
      },
      "execution_count": null,
      "outputs": []
    },
    {
      "cell_type": "code",
      "source": [
        "users_df.head()"
      ],
      "metadata": {
        "colab": {
          "base_uri": "https://localhost:8080/",
          "height": 302
        },
        "id": "NBH7DHJ73OEr",
        "outputId": "50b1681e-2f9c-451e-dc81-507eb7a77cda"
      },
      "execution_count": null,
      "outputs": [
        {
          "output_type": "execute_result",
          "data": {
            "text/plain": [
              "           userName                                               jobs  \\\n",
              "0            an lam  [[Tổng công ty IDICO, Chuyên viên Kỹ thuật XD,...   \n",
              "1      HALİL TURGUT  [[Mustafa Nevzat İlaç San. A.Ş., Rebrezant, []...   \n",
              "2             森田さとこ                                               None   \n",
              "3         amey kore                                               None   \n",
              "4  william spindler                                               None   \n",
              "\n",
              "                                        currentPlace  \\\n",
              "0  [Thành phố Hồ Chí Minh, Việt Nam, [[], 1082309...   \n",
              "1             [Adana, [[], 370000000, 353213330, 1]]   \n",
              "2                                               None   \n",
              "3                                               None   \n",
              "4                                               None   \n",
              "\n",
              "                                      previousPlaces  \\\n",
              "0  [[tp. Nam Định, Nam Định, Việt Nam, [[], 20420...   \n",
              "1                                               None   \n",
              "2                                               None   \n",
              "3                                               None   \n",
              "4                                               None   \n",
              "\n",
              "                                           education   gPlusUserId  \n",
              "0  [[[], [], [], [], [], 6], [[Đại học Kiến trúc ...  1.000000e+20  \n",
              "1  [[[], [], [], [], [], 6], [[Anadolu University...  1.000000e+20  \n",
              "2                      [[[], [], [], [], [], 6], []]  1.000000e+20  \n",
              "3                      [[[], [], [], [], [], 6], []]  1.000000e+20  \n",
              "4                      [[[], [], [], [], [], 6], []]  1.000000e+20  "
            ],
            "text/html": [
              "\n",
              "  <div id=\"df-18cf1b3b-3324-4475-8cec-191964503cfa\">\n",
              "    <div class=\"colab-df-container\">\n",
              "      <div>\n",
              "<style scoped>\n",
              "    .dataframe tbody tr th:only-of-type {\n",
              "        vertical-align: middle;\n",
              "    }\n",
              "\n",
              "    .dataframe tbody tr th {\n",
              "        vertical-align: top;\n",
              "    }\n",
              "\n",
              "    .dataframe thead th {\n",
              "        text-align: right;\n",
              "    }\n",
              "</style>\n",
              "<table border=\"1\" class=\"dataframe\">\n",
              "  <thead>\n",
              "    <tr style=\"text-align: right;\">\n",
              "      <th></th>\n",
              "      <th>userName</th>\n",
              "      <th>jobs</th>\n",
              "      <th>currentPlace</th>\n",
              "      <th>previousPlaces</th>\n",
              "      <th>education</th>\n",
              "      <th>gPlusUserId</th>\n",
              "    </tr>\n",
              "  </thead>\n",
              "  <tbody>\n",
              "    <tr>\n",
              "      <th>0</th>\n",
              "      <td>an lam</td>\n",
              "      <td>[[Tổng công ty IDICO, Chuyên viên Kỹ thuật XD,...</td>\n",
              "      <td>[Thành phố Hồ Chí Minh, Việt Nam, [[], 1082309...</td>\n",
              "      <td>[[tp. Nam Định, Nam Định, Việt Nam, [[], 20420...</td>\n",
              "      <td>[[[], [], [], [], [], 6], [[Đại học Kiến trúc ...</td>\n",
              "      <td>1.000000e+20</td>\n",
              "    </tr>\n",
              "    <tr>\n",
              "      <th>1</th>\n",
              "      <td>HALİL TURGUT</td>\n",
              "      <td>[[Mustafa Nevzat İlaç San. A.Ş., Rebrezant, []...</td>\n",
              "      <td>[Adana, [[], 370000000, 353213330, 1]]</td>\n",
              "      <td>None</td>\n",
              "      <td>[[[], [], [], [], [], 6], [[Anadolu University...</td>\n",
              "      <td>1.000000e+20</td>\n",
              "    </tr>\n",
              "    <tr>\n",
              "      <th>2</th>\n",
              "      <td>森田さとこ</td>\n",
              "      <td>None</td>\n",
              "      <td>None</td>\n",
              "      <td>None</td>\n",
              "      <td>[[[], [], [], [], [], 6], []]</td>\n",
              "      <td>1.000000e+20</td>\n",
              "    </tr>\n",
              "    <tr>\n",
              "      <th>3</th>\n",
              "      <td>amey kore</td>\n",
              "      <td>None</td>\n",
              "      <td>None</td>\n",
              "      <td>None</td>\n",
              "      <td>[[[], [], [], [], [], 6], []]</td>\n",
              "      <td>1.000000e+20</td>\n",
              "    </tr>\n",
              "    <tr>\n",
              "      <th>4</th>\n",
              "      <td>william spindler</td>\n",
              "      <td>None</td>\n",
              "      <td>None</td>\n",
              "      <td>None</td>\n",
              "      <td>[[[], [], [], [], [], 6], []]</td>\n",
              "      <td>1.000000e+20</td>\n",
              "    </tr>\n",
              "  </tbody>\n",
              "</table>\n",
              "</div>\n",
              "      <button class=\"colab-df-convert\" onclick=\"convertToInteractive('df-18cf1b3b-3324-4475-8cec-191964503cfa')\"\n",
              "              title=\"Convert this dataframe to an interactive table.\"\n",
              "              style=\"display:none;\">\n",
              "        \n",
              "  <svg xmlns=\"http://www.w3.org/2000/svg\" height=\"24px\"viewBox=\"0 0 24 24\"\n",
              "       width=\"24px\">\n",
              "    <path d=\"M0 0h24v24H0V0z\" fill=\"none\"/>\n",
              "    <path d=\"M18.56 5.44l.94 2.06.94-2.06 2.06-.94-2.06-.94-.94-2.06-.94 2.06-2.06.94zm-11 1L8.5 8.5l.94-2.06 2.06-.94-2.06-.94L8.5 2.5l-.94 2.06-2.06.94zm10 10l.94 2.06.94-2.06 2.06-.94-2.06-.94-.94-2.06-.94 2.06-2.06.94z\"/><path d=\"M17.41 7.96l-1.37-1.37c-.4-.4-.92-.59-1.43-.59-.52 0-1.04.2-1.43.59L10.3 9.45l-7.72 7.72c-.78.78-.78 2.05 0 2.83L4 21.41c.39.39.9.59 1.41.59.51 0 1.02-.2 1.41-.59l7.78-7.78 2.81-2.81c.8-.78.8-2.07 0-2.86zM5.41 20L4 18.59l7.72-7.72 1.47 1.35L5.41 20z\"/>\n",
              "  </svg>\n",
              "      </button>\n",
              "      \n",
              "  <style>\n",
              "    .colab-df-container {\n",
              "      display:flex;\n",
              "      flex-wrap:wrap;\n",
              "      gap: 12px;\n",
              "    }\n",
              "\n",
              "    .colab-df-convert {\n",
              "      background-color: #E8F0FE;\n",
              "      border: none;\n",
              "      border-radius: 50%;\n",
              "      cursor: pointer;\n",
              "      display: none;\n",
              "      fill: #1967D2;\n",
              "      height: 32px;\n",
              "      padding: 0 0 0 0;\n",
              "      width: 32px;\n",
              "    }\n",
              "\n",
              "    .colab-df-convert:hover {\n",
              "      background-color: #E2EBFA;\n",
              "      box-shadow: 0px 1px 2px rgba(60, 64, 67, 0.3), 0px 1px 3px 1px rgba(60, 64, 67, 0.15);\n",
              "      fill: #174EA6;\n",
              "    }\n",
              "\n",
              "    [theme=dark] .colab-df-convert {\n",
              "      background-color: #3B4455;\n",
              "      fill: #D2E3FC;\n",
              "    }\n",
              "\n",
              "    [theme=dark] .colab-df-convert:hover {\n",
              "      background-color: #434B5C;\n",
              "      box-shadow: 0px 1px 3px 1px rgba(0, 0, 0, 0.15);\n",
              "      filter: drop-shadow(0px 1px 2px rgba(0, 0, 0, 0.3));\n",
              "      fill: #FFFFFF;\n",
              "    }\n",
              "  </style>\n",
              "\n",
              "      <script>\n",
              "        const buttonEl =\n",
              "          document.querySelector('#df-18cf1b3b-3324-4475-8cec-191964503cfa button.colab-df-convert');\n",
              "        buttonEl.style.display =\n",
              "          google.colab.kernel.accessAllowed ? 'block' : 'none';\n",
              "\n",
              "        async function convertToInteractive(key) {\n",
              "          const element = document.querySelector('#df-18cf1b3b-3324-4475-8cec-191964503cfa');\n",
              "          const dataTable =\n",
              "            await google.colab.kernel.invokeFunction('convertToInteractive',\n",
              "                                                     [key], {});\n",
              "          if (!dataTable) return;\n",
              "\n",
              "          const docLinkHtml = 'Like what you see? Visit the ' +\n",
              "            '<a target=\"_blank\" href=https://colab.research.google.com/notebooks/data_table.ipynb>data table notebook</a>'\n",
              "            + ' to learn more about interactive tables.';\n",
              "          element.innerHTML = '';\n",
              "          dataTable['output_type'] = 'display_data';\n",
              "          await google.colab.output.renderOutput(dataTable, element);\n",
              "          const docLink = document.createElement('div');\n",
              "          docLink.innerHTML = docLinkHtml;\n",
              "          element.appendChild(docLink);\n",
              "        }\n",
              "      </script>\n",
              "    </div>\n",
              "  </div>\n",
              "  "
            ]
          },
          "metadata": {},
          "execution_count": 34
        }
      ]
    },
    {
      "cell_type": "code",
      "source": [
        "users_df.columns"
      ],
      "metadata": {
        "colab": {
          "base_uri": "https://localhost:8080/"
        },
        "id": "k8paLNjY4WFp",
        "outputId": "4f3d3977-3c04-4845-d692-2cea025f4b4b"
      },
      "execution_count": null,
      "outputs": [
        {
          "output_type": "execute_result",
          "data": {
            "text/plain": [
              "Index(['userName', 'jobs', 'currentPlace', 'previousPlaces', 'education',\n",
              "       'gPlusUserId'],\n",
              "      dtype='object')"
            ]
          },
          "metadata": {},
          "execution_count": 41
        }
      ]
    },
    {
      "cell_type": "code",
      "source": [
        "users_df = remove_none_values(users_df)"
      ],
      "metadata": {
        "id": "dilKXOG33QMP"
      },
      "execution_count": null,
      "outputs": []
    },
    {
      "cell_type": "markdown",
      "source": [
        "#Preprocessing of \"places.json\""
      ],
      "metadata": {
        "id": "mUR7J3fMnGe4"
      }
    },
    {
      "cell_type": "code",
      "source": [
        "f = open('/content/gdrive/Shareddrives/RS/LA02/RS_2_final/places.json')\n",
        "# data = json.load(f) \n",
        "x = f.readlines()"
      ],
      "metadata": {
        "id": "ZCWMf6mzA5zH"
      },
      "execution_count": null,
      "outputs": []
    },
    {
      "cell_type": "code",
      "source": [
        "print(len(x))"
      ],
      "metadata": {
        "colab": {
          "base_uri": "https://localhost:8080/"
        },
        "id": "5qGxjRdb5sk-",
        "outputId": "e8433fe7-7d8e-4b72-f0e6-a6a94987a760"
      },
      "execution_count": null,
      "outputs": [
        {
          "output_type": "stream",
          "name": "stdout",
          "text": [
            "3114353\n"
          ]
        }
      ]
    },
    {
      "cell_type": "code",
      "source": [
        "dict_20L = {}\n",
        "for i in range(0,1500000):\n",
        "  d = eval(x[i])\n",
        "  dict_20L[i] = d"
      ],
      "metadata": {
        "id": "d2Cff3InpOFa"
      },
      "execution_count": null,
      "outputs": []
    },
    {
      "cell_type": "code",
      "source": [
        "df1 = pd.DataFrame.from_dict(dict_20L, orient ='index') "
      ],
      "metadata": {
        "id": "gEmrOiknpOFa"
      },
      "execution_count": null,
      "outputs": []
    },
    {
      "cell_type": "code",
      "source": [
        "df1=df1.drop(\"price\",axis='columns')"
      ],
      "metadata": {
        "id": "2_msQWiKpOFa"
      },
      "execution_count": null,
      "outputs": []
    },
    {
      "cell_type": "markdown",
      "source": [
        "dropping prices as it has approx 14L null values in 15L chunks"
      ],
      "metadata": {
        "id": "-50Cxcdypdrv"
      }
    },
    {
      "cell_type": "code",
      "source": [
        "df1 = df1.loc[~df1['gps'].isnull()]"
      ],
      "metadata": {
        "id": "ABVxcpe5pdrv"
      },
      "execution_count": null,
      "outputs": []
    },
    {
      "cell_type": "code",
      "source": [
        "df1 = df1.loc[~df1['phone'].isnull()]"
      ],
      "metadata": {
        "id": "_S-FBDCJpdrv"
      },
      "execution_count": null,
      "outputs": []
    },
    {
      "cell_type": "code",
      "source": [
        "df1 = df1.loc[~df1['hours'].isnull()]"
      ],
      "metadata": {
        "id": "_gLSpFGcpdrv"
      },
      "execution_count": null,
      "outputs": []
    },
    {
      "cell_type": "code",
      "source": [
        "nan=df1.isna().sum()\n",
        "print(nan)"
      ],
      "metadata": {
        "colab": {
          "base_uri": "https://localhost:8080/"
        },
        "outputId": "5008c04f-4e8d-4184-ea5f-62c53346fa68",
        "id": "3DpASQfQpdrv"
      },
      "execution_count": null,
      "outputs": [
        {
          "output_type": "stream",
          "name": "stdout",
          "text": [
            "name            0\n",
            "address         0\n",
            "hours           0\n",
            "phone           0\n",
            "closed          0\n",
            "gPlusPlaceId    0\n",
            "gps             0\n",
            "dtype: int64\n"
          ]
        }
      ]
    },
    {
      "cell_type": "code",
      "source": [
        "df1.to_csv(\"/content/gdrive/Shareddrives/RS/LA02/Places/places1.csv\")"
      ],
      "metadata": {
        "id": "nNCqT_vIpdrw"
      },
      "execution_count": null,
      "outputs": []
    },
    {
      "cell_type": "markdown",
      "source": [
        "###For range (1500001,3114353)"
      ],
      "metadata": {
        "id": "XGCwzaQUpfTo"
      }
    },
    {
      "cell_type": "code",
      "source": [
        "dict_20L = {}\n",
        "for i in range(1500001,3114353):\n",
        "  d = eval(x[i])\n",
        "  dict_20L[i] = d"
      ],
      "metadata": {
        "id": "Lyql2ybQBDa8"
      },
      "execution_count": null,
      "outputs": []
    },
    {
      "cell_type": "code",
      "source": [
        "df2 = pd.DataFrame.from_dict(dict_20L, orient ='index') "
      ],
      "metadata": {
        "id": "a-zbg-Z5Bd1f"
      },
      "execution_count": null,
      "outputs": []
    },
    {
      "cell_type": "code",
      "source": [
        "df2=df2.drop(\"price\",axis='columns')"
      ],
      "metadata": {
        "id": "KZHE54qGDg8b"
      },
      "execution_count": null,
      "outputs": []
    },
    {
      "cell_type": "markdown",
      "source": [
        "dropping prices as it has approx 14L null values in 15L chunks"
      ],
      "metadata": {
        "id": "ZqsiaYTEDvJj"
      }
    },
    {
      "cell_type": "code",
      "source": [
        "df2 = df2.loc[~df2['gps'].isnull()]"
      ],
      "metadata": {
        "id": "d-mvOJU9B92L"
      },
      "execution_count": null,
      "outputs": []
    },
    {
      "cell_type": "code",
      "source": [
        "df2 = df2.loc[~df2['phone'].isnull()]"
      ],
      "metadata": {
        "id": "DTdhV9ZlDfia"
      },
      "execution_count": null,
      "outputs": []
    },
    {
      "cell_type": "code",
      "source": [
        "df2 = df2.loc[~df2['hours'].isnull()]"
      ],
      "metadata": {
        "id": "e94NPFNTEYak"
      },
      "execution_count": null,
      "outputs": []
    },
    {
      "cell_type": "code",
      "source": [
        "nan=df2.isna().sum()\n",
        "print(nan)"
      ],
      "metadata": {
        "colab": {
          "base_uri": "https://localhost:8080/"
        },
        "id": "2Io_Pe62A01u",
        "outputId": "5008c04f-4e8d-4184-ea5f-62c53346fa68"
      },
      "execution_count": null,
      "outputs": [
        {
          "output_type": "stream",
          "name": "stdout",
          "text": [
            "name            0\n",
            "address         0\n",
            "hours           0\n",
            "phone           0\n",
            "closed          0\n",
            "gPlusPlaceId    0\n",
            "gps             0\n",
            "dtype: int64\n"
          ]
        }
      ]
    },
    {
      "cell_type": "code",
      "source": [
        "df2.to_csv(\"/content/gdrive/Shareddrives/RS/LA02/Places/places2.csv\")"
      ],
      "metadata": {
        "id": "UsQEIFaFFYS6"
      },
      "execution_count": null,
      "outputs": []
    },
    {
      "cell_type": "code",
      "source": [
        "dfnew1=pd.read_csv('/content/gdrive/Shareddrives/RS/LA02/Places/places1.csv')"
      ],
      "metadata": {
        "id": "gRZ2mgkZnwy5"
      },
      "execution_count": null,
      "outputs": []
    },
    {
      "cell_type": "code",
      "source": [
        "dfnew2=pd.read_csv('/content/gdrive/Shareddrives/RS/LA02/Places/places2.csv')"
      ],
      "metadata": {
        "id": "G3B0QoM3n3D-"
      },
      "execution_count": null,
      "outputs": []
    },
    {
      "cell_type": "code",
      "source": [
        "frames = [dfnew1, dfnew2]\n",
        "result = pd.concat(frames, axis=0)\n",
        "result.shape"
      ],
      "metadata": {
        "colab": {
          "base_uri": "https://localhost:8080/"
        },
        "id": "cZMSLpoPIwRi",
        "outputId": "0d4b5e17-ff0f-492e-c6db-242ebd03e35d"
      },
      "execution_count": null,
      "outputs": [
        {
          "output_type": "execute_result",
          "data": {
            "text/plain": [
              "(1341688, 8)"
            ]
          },
          "metadata": {},
          "execution_count": 21
        }
      ]
    },
    {
      "cell_type": "code",
      "source": [
        "result.head()"
      ],
      "metadata": {
        "colab": {
          "base_uri": "https://localhost:8080/",
          "height": 614
        },
        "id": "DvCIs7JwJY7a",
        "outputId": "d12399a2-b240-4ad4-9ec4-4d7651abb39a"
      },
      "execution_count": null,
      "outputs": [
        {
          "output_type": "execute_result",
          "data": {
            "text/plain": [
              "   Unnamed: 0                           name  \\\n",
              "0     1500000  Pep Boys Auto Parts & Service   \n",
              "1     1500001         Acclaim Hearing Center   \n",
              "2     1500005                   Zooland Park   \n",
              "3     1500006         BlueChip Software GmbH   \n",
              "4     1500014       Cupolens Gatukök & Kiosk   \n",
              "\n",
              "                                             address  \\\n",
              "0  ['7625 N Academy Blvd', 'Colorado Spgs, CO 809...   \n",
              "1  ['110', '7321 W Charleston Blvd', 'Las Vegas, ...   \n",
              "2  ['Route de Cazaux', '33260 La Teste-de-Buch', ...   \n",
              "3  ['Hochtennstraße 30', '5700 Zell am See', 'Aus...   \n",
              "4       ['Majgatan 1', '582 46 Linköping', 'Sweden']   \n",
              "\n",
              "                                               hours           phone  closed  \\\n",
              "0  [['Monday', [['8:00 am--8:00 pm']]], ['Tuesday...  (719) 599-4455   False   \n",
              "1  [['Monday', [['9:00 am--5:00 pm']]], ['Tuesday...  (702) 363-2336   False   \n",
              "2  [['Monday', [['10:00 am--7:00 pm']]], ['Tuesda...  05 56 54 71 44   False   \n",
              "3  [['Monday', [['8:00 am--12:00 pm'], ['1:00--5:...    06542 575840   False   \n",
              "4  [['Monday', [['11:00 am--10:00 pm']]], ['Tuesd...    013-10 35 37   False   \n",
              "\n",
              "            gPlusPlaceId                       gps  \n",
              "0  106604455956312584856   [38.94162, -104.797586]  \n",
              "1  108865044857061260547  [36.159274, -115.278781]  \n",
              "2  102023846774373264702    [44.585871, -1.136379]  \n",
              "3  110328490284324713981  [47297029.0, 12798235.0]  \n",
              "4  116680537008710602604    [58.407777, 15.590062]  "
            ],
            "text/html": [
              "\n",
              "  <div id=\"df-125210b9-62e7-41ab-8d60-06e03321bc37\">\n",
              "    <div class=\"colab-df-container\">\n",
              "      <div>\n",
              "<style scoped>\n",
              "    .dataframe tbody tr th:only-of-type {\n",
              "        vertical-align: middle;\n",
              "    }\n",
              "\n",
              "    .dataframe tbody tr th {\n",
              "        vertical-align: top;\n",
              "    }\n",
              "\n",
              "    .dataframe thead th {\n",
              "        text-align: right;\n",
              "    }\n",
              "</style>\n",
              "<table border=\"1\" class=\"dataframe\">\n",
              "  <thead>\n",
              "    <tr style=\"text-align: right;\">\n",
              "      <th></th>\n",
              "      <th>Unnamed: 0</th>\n",
              "      <th>name</th>\n",
              "      <th>address</th>\n",
              "      <th>hours</th>\n",
              "      <th>phone</th>\n",
              "      <th>closed</th>\n",
              "      <th>gPlusPlaceId</th>\n",
              "      <th>gps</th>\n",
              "    </tr>\n",
              "  </thead>\n",
              "  <tbody>\n",
              "    <tr>\n",
              "      <th>0</th>\n",
              "      <td>1500000</td>\n",
              "      <td>Pep Boys Auto Parts &amp; Service</td>\n",
              "      <td>['7625 N Academy Blvd', 'Colorado Spgs, CO 809...</td>\n",
              "      <td>[['Monday', [['8:00 am--8:00 pm']]], ['Tuesday...</td>\n",
              "      <td>(719) 599-4455</td>\n",
              "      <td>False</td>\n",
              "      <td>106604455956312584856</td>\n",
              "      <td>[38.94162, -104.797586]</td>\n",
              "    </tr>\n",
              "    <tr>\n",
              "      <th>1</th>\n",
              "      <td>1500001</td>\n",
              "      <td>Acclaim Hearing Center</td>\n",
              "      <td>['110', '7321 W Charleston Blvd', 'Las Vegas, ...</td>\n",
              "      <td>[['Monday', [['9:00 am--5:00 pm']]], ['Tuesday...</td>\n",
              "      <td>(702) 363-2336</td>\n",
              "      <td>False</td>\n",
              "      <td>108865044857061260547</td>\n",
              "      <td>[36.159274, -115.278781]</td>\n",
              "    </tr>\n",
              "    <tr>\n",
              "      <th>2</th>\n",
              "      <td>1500005</td>\n",
              "      <td>Zooland Park</td>\n",
              "      <td>['Route de Cazaux', '33260 La Teste-de-Buch', ...</td>\n",
              "      <td>[['Monday', [['10:00 am--7:00 pm']]], ['Tuesda...</td>\n",
              "      <td>05 56 54 71 44</td>\n",
              "      <td>False</td>\n",
              "      <td>102023846774373264702</td>\n",
              "      <td>[44.585871, -1.136379]</td>\n",
              "    </tr>\n",
              "    <tr>\n",
              "      <th>3</th>\n",
              "      <td>1500006</td>\n",
              "      <td>BlueChip Software GmbH</td>\n",
              "      <td>['Hochtennstraße 30', '5700 Zell am See', 'Aus...</td>\n",
              "      <td>[['Monday', [['8:00 am--12:00 pm'], ['1:00--5:...</td>\n",
              "      <td>06542 575840</td>\n",
              "      <td>False</td>\n",
              "      <td>110328490284324713981</td>\n",
              "      <td>[47297029.0, 12798235.0]</td>\n",
              "    </tr>\n",
              "    <tr>\n",
              "      <th>4</th>\n",
              "      <td>1500014</td>\n",
              "      <td>Cupolens Gatukök &amp; Kiosk</td>\n",
              "      <td>['Majgatan 1', '582 46 Linköping', 'Sweden']</td>\n",
              "      <td>[['Monday', [['11:00 am--10:00 pm']]], ['Tuesd...</td>\n",
              "      <td>013-10 35 37</td>\n",
              "      <td>False</td>\n",
              "      <td>116680537008710602604</td>\n",
              "      <td>[58.407777, 15.590062]</td>\n",
              "    </tr>\n",
              "  </tbody>\n",
              "</table>\n",
              "</div>\n",
              "      <button class=\"colab-df-convert\" onclick=\"convertToInteractive('df-125210b9-62e7-41ab-8d60-06e03321bc37')\"\n",
              "              title=\"Convert this dataframe to an interactive table.\"\n",
              "              style=\"display:none;\">\n",
              "        \n",
              "  <svg xmlns=\"http://www.w3.org/2000/svg\" height=\"24px\"viewBox=\"0 0 24 24\"\n",
              "       width=\"24px\">\n",
              "    <path d=\"M0 0h24v24H0V0z\" fill=\"none\"/>\n",
              "    <path d=\"M18.56 5.44l.94 2.06.94-2.06 2.06-.94-2.06-.94-.94-2.06-.94 2.06-2.06.94zm-11 1L8.5 8.5l.94-2.06 2.06-.94-2.06-.94L8.5 2.5l-.94 2.06-2.06.94zm10 10l.94 2.06.94-2.06 2.06-.94-2.06-.94-.94-2.06-.94 2.06-2.06.94z\"/><path d=\"M17.41 7.96l-1.37-1.37c-.4-.4-.92-.59-1.43-.59-.52 0-1.04.2-1.43.59L10.3 9.45l-7.72 7.72c-.78.78-.78 2.05 0 2.83L4 21.41c.39.39.9.59 1.41.59.51 0 1.02-.2 1.41-.59l7.78-7.78 2.81-2.81c.8-.78.8-2.07 0-2.86zM5.41 20L4 18.59l7.72-7.72 1.47 1.35L5.41 20z\"/>\n",
              "  </svg>\n",
              "      </button>\n",
              "      \n",
              "  <style>\n",
              "    .colab-df-container {\n",
              "      display:flex;\n",
              "      flex-wrap:wrap;\n",
              "      gap: 12px;\n",
              "    }\n",
              "\n",
              "    .colab-df-convert {\n",
              "      background-color: #E8F0FE;\n",
              "      border: none;\n",
              "      border-radius: 50%;\n",
              "      cursor: pointer;\n",
              "      display: none;\n",
              "      fill: #1967D2;\n",
              "      height: 32px;\n",
              "      padding: 0 0 0 0;\n",
              "      width: 32px;\n",
              "    }\n",
              "\n",
              "    .colab-df-convert:hover {\n",
              "      background-color: #E2EBFA;\n",
              "      box-shadow: 0px 1px 2px rgba(60, 64, 67, 0.3), 0px 1px 3px 1px rgba(60, 64, 67, 0.15);\n",
              "      fill: #174EA6;\n",
              "    }\n",
              "\n",
              "    [theme=dark] .colab-df-convert {\n",
              "      background-color: #3B4455;\n",
              "      fill: #D2E3FC;\n",
              "    }\n",
              "\n",
              "    [theme=dark] .colab-df-convert:hover {\n",
              "      background-color: #434B5C;\n",
              "      box-shadow: 0px 1px 3px 1px rgba(0, 0, 0, 0.15);\n",
              "      filter: drop-shadow(0px 1px 2px rgba(0, 0, 0, 0.3));\n",
              "      fill: #FFFFFF;\n",
              "    }\n",
              "  </style>\n",
              "\n",
              "      <script>\n",
              "        const buttonEl =\n",
              "          document.querySelector('#df-125210b9-62e7-41ab-8d60-06e03321bc37 button.colab-df-convert');\n",
              "        buttonEl.style.display =\n",
              "          google.colab.kernel.accessAllowed ? 'block' : 'none';\n",
              "\n",
              "        async function convertToInteractive(key) {\n",
              "          const element = document.querySelector('#df-125210b9-62e7-41ab-8d60-06e03321bc37');\n",
              "          const dataTable =\n",
              "            await google.colab.kernel.invokeFunction('convertToInteractive',\n",
              "                                                     [key], {});\n",
              "          if (!dataTable) return;\n",
              "\n",
              "          const docLinkHtml = 'Like what you see? Visit the ' +\n",
              "            '<a target=\"_blank\" href=https://colab.research.google.com/notebooks/data_table.ipynb>data table notebook</a>'\n",
              "            + ' to learn more about interactive tables.';\n",
              "          element.innerHTML = '';\n",
              "          dataTable['output_type'] = 'display_data';\n",
              "          await google.colab.output.renderOutput(dataTable, element);\n",
              "          const docLink = document.createElement('div');\n",
              "          docLink.innerHTML = docLinkHtml;\n",
              "          element.appendChild(docLink);\n",
              "        }\n",
              "      </script>\n",
              "    </div>\n",
              "  </div>\n",
              "  "
            ]
          },
          "metadata": {},
          "execution_count": 23
        }
      ]
    },
    {
      "cell_type": "code",
      "source": [
        "result.to_csv('/content/gdrive/Shareddrives/RS/LA02/Places/Final_places.csv')"
      ],
      "metadata": {
        "id": "yO3NW8mYJELX"
      },
      "execution_count": null,
      "outputs": []
    },
    {
      "cell_type": "code",
      "source": [],
      "metadata": {
        "id": "Z8id5s6Fon-K"
      },
      "execution_count": null,
      "outputs": []
    }
  ]
}